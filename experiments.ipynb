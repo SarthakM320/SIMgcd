{
 "cells": [
  {
   "cell_type": "code",
   "execution_count": 1,
   "metadata": {},
   "outputs": [],
   "source": [
    "from data.officehome import get_officehome_datasets\n",
    "from data.officehome import OfficeHome\n",
    "from torchvision import transforms\n",
    "from torch.utils.data import DataLoader\n",
    "train_transform = transforms.Compose([transforms.Resize((224,224)),transforms.ToTensor()])\n",
    "datasets = get_officehome_datasets(transforms.Compose([transforms.Resize((224,224)),transforms.ToTensor()]),transforms.Compose([transforms.Resize((224,224)),transforms.ToTensor()]))"
   ]
  },
  {
   "cell_type": "code",
   "execution_count": 2,
   "metadata": {},
   "outputs": [],
   "source": [
    "loader = DataLoader(OfficeHome(transform=train_transform, split='test'), batch_size = 128, num_workers = 12, shuffle = False)"
   ]
  },
  {
   "cell_type": "code",
   "execution_count": 4,
   "metadata": {},
   "outputs": [
    {
     "name": "stdout",
     "output_type": "stream",
     "text": [
      "<class 'torch.Tensor'>\n"
     ]
    }
   ],
   "source": [
    "for data in loader: \n",
    "    \n",
    "    print(type(data[0]))\n",
    "\n",
    "    break"
   ]
  },
  {
   "cell_type": "code",
   "execution_count": null,
   "metadata": {},
   "outputs": [],
   "source": []
  }
 ],
 "metadata": {
  "kernelspec": {
   "display_name": "gcd",
   "language": "python",
   "name": "python3"
  },
  "language_info": {
   "codemirror_mode": {
    "name": "ipython",
    "version": 3
   },
   "file_extension": ".py",
   "mimetype": "text/x-python",
   "name": "python",
   "nbconvert_exporter": "python",
   "pygments_lexer": "ipython3",
   "version": "3.12.1"
  }
 },
 "nbformat": 4,
 "nbformat_minor": 2
}
